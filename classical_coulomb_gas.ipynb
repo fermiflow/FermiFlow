{
  "cells": [
    {
      "cell_type": "markdown",
      "metadata": {
        "id": "view-in-github",
        "colab_type": "text"
      },
      "source": [
        "<a href=\"https://colab.research.google.com/github/fermiflow/FermiFlow/blob/github/classical_coulomb_gas.ipynb\" target=\"_parent\"><img src=\"https://colab.research.google.com/assets/colab-badge.svg\" alt=\"Open In Colab\"/></a>"
      ]
    },
    {
      "cell_type": "markdown",
      "source": [
        "Authors: [Lu Zhao](mailto:zhaolu@iphy.ac.cn) and [Lei Wang](mailto:wanglei@iphy.ac.cn), Insitute of Physics, Chinese Academy of Sciences.\n",
        "\n",
        "We will use [Jax](https://jax.readthedocs.io/en/latest/) for this tutorial. [Why Jax?](https://www.assemblyai.com/blog/why-you-should-or-shouldnt-be-using-jax-in-2022/)"
      ],
      "metadata": {
        "id": "qJbfB9xqnTfX"
      }
    },
    {
      "cell_type": "code",
      "execution_count": null,
      "metadata": {
        "id": "HfzgwjwSaowU"
      },
      "outputs": [],
      "source": [
        "import jax\n",
        "from jax.config import config   \n",
        "config.update(\"jax_enable_x64\", True)\n",
        "import jax.numpy as jnp\n",
        "from jax import lax, random, jit, vmap\n",
        "from functools import partial\n",
        "from jax.scipy.stats import norm\n",
        "from jax.example_libraries import optimizers\n",
        "from jax.example_libraries.stax import Dense, Relu, serial\n",
        "import numpy as np\n",
        "import matplotlib.pyplot as plt \n",
        "from IPython import display"
      ]
    },
    {
      "cell_type": "code",
      "execution_count": null,
      "metadata": {
        "id": "3r6s_qc8aowY",
        "outputId": "489cdc3d-f24f-49bf-d37b-fd07ccf8b5fd",
        "colab": {
          "base_uri": "https://localhost:8080/"
        }
      },
      "outputs": [
        {
          "output_type": "stream",
          "name": "stdout",
          "text": [
            "Tue Aug 16 02:10:43 2022       \n",
            "+-----------------------------------------------------------------------------+\n",
            "| NVIDIA-SMI 460.32.03    Driver Version: 460.32.03    CUDA Version: 11.2     |\n",
            "|-------------------------------+----------------------+----------------------+\n",
            "| GPU  Name        Persistence-M| Bus-Id        Disp.A | Volatile Uncorr. ECC |\n",
            "| Fan  Temp  Perf  Pwr:Usage/Cap|         Memory-Usage | GPU-Util  Compute M. |\n",
            "|                               |                      |               MIG M. |\n",
            "|===============================+======================+======================|\n",
            "|   0  Tesla T4            Off  | 00000000:00:04.0 Off |                    0 |\n",
            "| N/A   65C    P0    30W /  70W |  13830MiB / 15109MiB |      0%      Default |\n",
            "|                               |                      |                  N/A |\n",
            "+-------------------------------+----------------------+----------------------+\n",
            "                                                                               \n",
            "+-----------------------------------------------------------------------------+\n",
            "| Processes:                                                                  |\n",
            "|  GPU   GI   CI        PID   Type   Process name                  GPU Memory |\n",
            "|        ID   ID                                                   Usage      |\n",
            "|=============================================================================|\n",
            "+-----------------------------------------------------------------------------+\n"
          ]
        },
        {
          "output_type": "execute_result",
          "data": {
            "text/plain": [
              "[GpuDevice(id=0, process_index=0)]"
            ]
          },
          "metadata": {},
          "execution_count": 23
        }
      ],
      "source": [
        "!nvidia-smi\n",
        "jax.devices()"
      ]
    },
    {
      "cell_type": "markdown",
      "metadata": {
        "id": "XOP-tgCDWGhp"
      },
      "source": [
        "# Classical Coulomb gas\n",
        "\n",
        "We'd like to study thermodynamic property of the classical Coulomb gas, whose Hamiltonian reads\n",
        "\n",
        "$$H= \\sum_{i<j} \\frac{1}{|\\boldsymbol{x}_i - \\boldsymbol{x}_j|} + \\sum_i  \\boldsymbol{x}_i^2 . $$\n",
        "The second term is a harmonic trapping potential. It makes our story easier (no need to consider periodic bondary condition or Ewald sum for long range interaction.)\n",
        "\n",
        "The way to go is to minimize the variationial free energy with respect to a variational probability density $p(\\boldsymbol{x})$\n",
        "\n",
        "$$\\mathcal{L} = \\mathbb{E}_{\\boldsymbol{x} \\sim p(\\boldsymbol{x})} \\left [\\frac{1}{\\beta}\\ln p(\\boldsymbol{x}) +  H(\\boldsymbol{x}) \\right] \\ge -\\frac{1}{\\beta} \\ln Z, $$ \n",
        "where $Z = \\int d \\boldsymbol{x} e^{-\\beta H}$ and $\\beta$ is the inverse temperature. The equality holds when $p(\\boldsymbol{x}) = e^{-\\beta H}/Z$, i.e., we achieve the exact solution. \n",
        "\n",
        "First thing first, here is the energy function"
      ]
    },
    {
      "cell_type": "code",
      "execution_count": null,
      "metadata": {
        "id": "k_L0AGpiaowe"
      },
      "outputs": [],
      "source": [
        "def energy_fun(x, n, dim):\n",
        "    i, j = np.triu_indices(n, k=1)\n",
        "    r_ee = jnp.linalg.norm((jnp.reshape(x, (n, 1, dim)) - jnp.reshape(x, (1, n, dim)))[i,j], axis=-1)\n",
        "    v_ee = jnp.sum(1/r_ee)\n",
        "    return jnp.sum(x**2) + v_ee"
      ]
    },
    {
      "cell_type": "markdown",
      "metadata": {
        "id": "obkF0f8_YQLk"
      },
      "source": [
        "## Generative model\n",
        "\n",
        "### RealNVP\n",
        "\n",
        "The probablistic model we are going to use is the RealNVP https://arxiv.org/abs/1605.08803, which is one of the simplest but effective normalizing flow method.\n",
        "\n",
        "In $l$ layer, we divide the inputs into two parts, keep one part and change the other half according to the transformation below:\n",
        "\n",
        "$$\n",
        "\\begin{aligned}\n",
        "\\mathbf{x}^{l}_< &= \\mathbf{x}^{l-1}_< \\\\\n",
        "\\mathbf{x}^{l}_> &= \\mathbf{x}^{l-1}_> e^{s^{l-1}(\\mathbf{x}^{l-1}_<)} + t^{l-1}(\\mathbf{x}^{l-1}_<),\n",
        "\\end{aligned}\n",
        "$$\n",
        "\n",
        "while arbitrary network can be selected as $s$ and $t$, and the jacobian determinant of this transformation simply equals to $e^{s^{l-1}(\\mathbf{x}^{l-1}_<)}$.\n",
        "\n",
        "The inverse transformation is also quite simple\n",
        "\n",
        "$$\n",
        "\\begin{aligned}\n",
        "\\mathbf{x}^{l-1}_< &= \\mathbf{x}^{l}_< \\\\\n",
        "\\mathbf{x}^{l-1}_> &= (\\mathbf{x}^{l}_> - t^{l-1}(\\mathbf{x}^{l}_<)) e^{s^{l-1}(\\mathbf{x}^{l-1}_<)},\n",
        "\\end{aligned}\n",
        "$$\n",
        "\n",
        "Then we reverse the two halves and hand them over to the next layer, ensuring that all inputs will be transformed. Notice that the jacobian determinant of reversing is 1.\n"
      ]
    },
    {
      "cell_type": "code",
      "execution_count": null,
      "metadata": {
        "id": "YlfLFKjXaowh"
      },
      "outputs": [],
      "source": [
        "def layer(transform):\n",
        "\n",
        "    def init_fun(rng, input_dim):\n",
        "        cutoff = input_dim // 2\n",
        "        perm = jnp.arange(input_dim)[::-1] \n",
        "        params, trans_fun = transform(rng, cutoff, 2 * (input_dim - cutoff))\n",
        "\n",
        "        def direct_fun(params, inputs):\n",
        "            lower, upper = inputs[:, :cutoff], inputs[:, cutoff:]\n",
        "\n",
        "            log_weight, bias = trans_fun(params, lower).split(2, axis=1)\n",
        "            upper = upper * jnp.exp(log_weight) + bias\n",
        "\n",
        "            outputs = jnp.concatenate([lower, upper], axis=1)\n",
        "            log_det_jacobian = log_weight.sum(-1)\n",
        "            return outputs[:,perm], log_det_jacobian\n",
        "\n",
        "        def inverse_fun(params, inputs):\n",
        "            inputs = inputs[:, perm]\n",
        "            lower, upper = inputs[:, :cutoff], inputs[:, cutoff:]\n",
        "\n",
        "            log_weight, bias = trans_fun(params, lower).split(2, axis=1)\n",
        "            upper = (upper - bias) * jnp.exp(-log_weight)\n",
        "\n",
        "            outputs = jnp.concatenate([lower, upper], axis=1)\n",
        "            log_det_jacobian = log_weight.sum(-1)\n",
        "            return outputs, log_det_jacobian\n",
        "\n",
        "        return params, direct_fun, inverse_fun\n",
        "    \n",
        "    return init_fun"
      ]
    },
    {
      "cell_type": "code",
      "execution_count": null,
      "metadata": {
        "id": "JVP5f5gNaowj"
      },
      "outputs": [],
      "source": [
        "def RealNVP(transform, n: int):\n",
        "\n",
        "    def init_fun(rng, input_dim):\n",
        "\n",
        "        all_params, direct_funs, inverse_funs = [], [], []\n",
        "        for _ in range(n):\n",
        "            rng, layer_rng = random.split(rng)\n",
        "            init_fun = layer(transform)\n",
        "            param, direct_fun, inverse_fun = init_fun(layer_rng, input_dim)\n",
        "\n",
        "            all_params.append(param)\n",
        "            direct_funs.append(direct_fun)\n",
        "            inverse_funs.append(inverse_fun)\n",
        "\n",
        "        def feed_forward(params, apply_funs, inputs):\n",
        "            log_det_jacobians = jnp.zeros(inputs.shape[:1])\n",
        "            for apply_fun, param in zip(apply_funs, params):\n",
        "                inputs, log_det_jacobian = apply_fun(param, inputs)\n",
        "                log_det_jacobians += log_det_jacobian\n",
        "            return inputs, log_det_jacobians\n",
        "\n",
        "        def direct_fun(params, inputs):\n",
        "            return feed_forward(params, direct_funs, inputs)\n",
        "\n",
        "        def inverse_fun(params, inputs):\n",
        "            return feed_forward(reversed(params), reversed(inverse_funs), inputs)\n",
        "\n",
        "        return all_params, direct_fun, inverse_fun\n",
        "\n",
        "    return init_fun"
      ]
    },
    {
      "cell_type": "markdown",
      "metadata": {
        "id": "I8lBKsQFY9Sd"
      },
      "source": [
        "### Loss function\n",
        "\n",
        "Gradient of the objective function is\n",
        "\n",
        "$$\\nabla \\mathcal{L} = \\mathbb{E}_{\\boldsymbol{x} \\sim p(\\boldsymbol{x})} \\left[ f (\\boldsymbol{x})  \\nabla \\ln p(\\boldsymbol{x}) \\right],$$ \n",
        "where $f (\\boldsymbol{x}) =\\frac{1}{\\beta}\\ln p(\\boldsymbol{x}) +  H(\\boldsymbol{x})$. This is known as the REINFORCE algorithm, or score function gradient estimator. See https://arxiv.org/abs/1906.10652 for more details. \n"
      ]
    },
    {
      "cell_type": "code",
      "execution_count": null,
      "metadata": {
        "id": "KwBGTFYhaowm"
      },
      "outputs": [],
      "source": [
        "def make_reinforce_loss(flow_inverse, n, dim, beta):\n",
        "\n",
        "    batch_energy = vmap(energy_fun, (0, None, None), 0)\n",
        "\n",
        "    def loss(params, outputs):\n",
        "        inputs, log_det_jacobian = flow_inverse(params, outputs)\n",
        "        log_prob = norm.logpdf(inputs).sum(-1)\n",
        "        entropy = log_prob - log_det_jacobian\n",
        "        energy = batch_energy(outputs, n, dim)\n",
        "        f = entropy/beta +  energy\n",
        "        f = lax.stop_gradient(f)\n",
        "\n",
        "        f_mean = jnp.mean(f)\n",
        "        f_std = jnp.std(f)/jnp.sqrt(f.shape[0])\n",
        "            \n",
        "        return jnp.mean((f - f_mean) * entropy), (f_mean, f_std)\n",
        "    return loss"
      ]
    },
    {
      "cell_type": "markdown",
      "metadata": {
        "id": "jhRJt8HOaowo"
      },
      "source": [
        "### Initializing\n",
        "\n",
        "Now we are ready to initialize a RealNVP network"
      ]
    },
    {
      "cell_type": "code",
      "execution_count": null,
      "metadata": {
        "id": "WzX61oW4aowp"
      },
      "outputs": [],
      "source": [
        "batchsize = 8192\n",
        "n = 6\n",
        "dim = 2 \n",
        "beta = 10.0\n",
        "nlayers = 2\n",
        "rng = random.PRNGKey(42)\n",
        "\n",
        "def transform(rng, cutoff: int, other: int):\n",
        "            net_init, net_apply = serial(Dense(16), Relu, Dense(16), Relu, Dense(other))\n",
        "            in_shape = (-1, cutoff)\n",
        "            out_shape, net_params = net_init(rng, in_shape)\n",
        "            return net_params, net_apply\n",
        "\n",
        "flow_init = RealNVP(transform, nlayers)\n",
        "    \n",
        "init_rng, rng = random.split(rng)\n",
        "params, flow_forward, flow_inverse = flow_init(init_rng, n*dim)"
      ]
    },
    {
      "cell_type": "code",
      "execution_count": null,
      "metadata": {
        "id": "qdwBkBPiaowp"
      },
      "outputs": [],
      "source": [
        "loss = make_reinforce_loss(flow_inverse, n, dim, beta)\n",
        "value_and_grad = jax.value_and_grad(loss, argnums=0, has_aux=True)"
      ]
    },
    {
      "cell_type": "code",
      "execution_count": null,
      "metadata": {
        "id": "xacy_UCeaowq"
      },
      "outputs": [],
      "source": [
        "opt_init, opt_update, get_params = optimizers.adam(step_size=1e-2)\n",
        "opt_state = opt_init(params)"
      ]
    },
    {
      "cell_type": "markdown",
      "metadata": {
        "id": "xaqJltIXsfpP"
      },
      "source": [
        "### Training\n",
        "\n",
        "Here is the training loop. During training we monitor the density and loss histroy. "
      ]
    },
    {
      "cell_type": "code",
      "execution_count": null,
      "metadata": {
        "id": "JBX1-IT2aowq",
        "outputId": "af0ef16d-84ed-44de-c175-4e5fcf8ab7f0",
        "colab": {
          "base_uri": "https://localhost:8080/",
          "height": 388
        }
      },
      "outputs": [
        {
          "output_type": "display_data",
          "data": {
            "text/plain": [
              "<Figure size 864x432 with 2 Axes>"
            ],
            "image/png": "[encoded data removed]"
          },
          "metadata": {
            "needs_background": "light"
          }
        }
      ],
      "source": [
        "@jit\n",
        "def step(rng, i, opt_state):\n",
        "    params = get_params(opt_state)\n",
        "    \n",
        "    batch_inputs = jax.random.normal(rng, (batchsize, n*dim)) \n",
        "    outputs, _ = flow_forward(params, batch_inputs)\n",
        "\n",
        "    value, grad = value_and_grad(params, outputs)\n",
        "\n",
        "    opt_state = opt_update(i, grad, opt_state)\n",
        "    return value, opt_state, outputs\n",
        "\n",
        "loss_history = []\n",
        "for i in range(500):\n",
        "    step_rng, rng = jax.random.split(rng)\n",
        "    value, opt_state, x = step(step_rng, i, opt_state)\n",
        "    _, (f_mean, f_err) = value\n",
        "\n",
        "    loss_history.append([f_mean, f_err])\n",
        "\n",
        "    x = jnp.reshape(x, (batchsize*n, dim)) \n",
        "\n",
        "    display.clear_output(wait=True)\n",
        "\n",
        "    fig = plt.figure(figsize=(12, 6))\n",
        "    plt.subplot(1, 2, 1)\n",
        "    H, xedges, yedges = np.histogram2d(x[:, 0], x[:, 1], \n",
        "                                       bins=100, \n",
        "                                       range=((-4, 4), (-4, 4)),\n",
        "                        density=True)\n",
        "    plt.imshow(H, interpolation=\"nearest\", \n",
        "               extent=(xedges[0], xedges[-1], yedges[0], yedges[-1]),\n",
        "               cmap=\"inferno\")\n",
        "\n",
        "    plt.xlim([-4, 4])\n",
        "    plt.ylim([-4, 4])\n",
        "\n",
        "    plt.subplot(1, 2, 2)\n",
        "    y = np.reshape(np.array(loss_history), (-1, 2))\n",
        "    plt.errorbar(np.arange(i+1), y[:, 0], yerr=y[:, 1], marker='o', capsize=8)\n",
        "    plt.xlabel('epochs')\n",
        "    plt.ylabel('variational free energy')\n",
        "    plt.pause(0.01)"
      ]
    },
    {
      "cell_type": "markdown",
      "source": [
        "Let's check the energy of the system after optimization"
      ],
      "metadata": {
        "id": "I0Zc6oZGGfM5"
      }
    },
    {
      "cell_type": "code",
      "execution_count": null,
      "metadata": {
        "id": "XltuyZ1Zaows",
        "outputId": "02ffb5ad-ccb4-4193-df06-2646a07fe7cf",
        "colab": {
          "base_uri": "https://localhost:8080/"
        }
      },
      "outputs": [
        {
          "output_type": "stream",
          "name": "stdout",
          "text": [
            "17.384052956454774 0.0029798564624573414\n"
          ]
        }
      ],
      "source": [
        "sample_realnvp = x.reshape(batchsize, n, dim)\n",
        "energy_realnvp = vmap(energy_fun, (0, None, None), 0)(sample_realnvp, n, dim)\n",
        "print(jnp.mean(energy_realnvp), jnp.std(energy_realnvp)/jnp.sqrt(batchsize))"
      ]
    },
    {
      "cell_type": "markdown",
      "metadata": {
        "id": "zV1vKMbaft74"
      },
      "source": [
        "Do you see structure emerges from training? \n",
        "Yes! It is called [Wigner molecule](https://en.wikipedia.org/wiki/Wigner_crystal). Physicists had already studied [the ground state of Wigner crystals for such small clusters](https://www.sciencedirect.com/science/article/abs/pii/S0749603683710268). the interesting result is that for the case of six electrons, there are five electrons arranged around a single electron at the center, which is actually what we get."
      ]
    },
    {
      "cell_type": "markdown",
      "metadata": {
        "id": "BZmkaMMJeWVf"
      },
      "source": [
        "A few things to improve from this mininist implementation: \n",
        "* It seems the training breaks rotational invariance. But it shouldn't. How to incorporate that into the model design ? \n",
        "\n",
        "* How about permutation equivariance $\\mathcal{P} \\boldsymbol{v}(\\boldsymbol{x}) = v(\\mathcal{P} \\boldsymbol{x})$ ?\n",
        "\n",
        "* Do you feel it is a bit ackward to integrate the equation twice (one for sampling, one for the likelihood). It is actually easier to implement \"reparametrization\" gradient estimator. Code it and see why we were not using it here. Again, read https://arxiv.org/abs/1906.10652 for more details \n",
        "\n",
        "\n",
        "\n",
        "\n"
      ]
    },
    {
      "cell_type": "markdown",
      "metadata": {
        "id": "eQwLElKmaowu"
      },
      "source": [
        "## MCMC\n",
        "\n",
        "We can use MCMC to check if we are correct."
      ]
    },
    {
      "cell_type": "code",
      "execution_count": null,
      "metadata": {
        "id": "8gCQ4p_4aowv"
      },
      "outputs": [],
      "source": [
        "@partial(jit, static_argnums=0)\n",
        "def mcmc(logp_fn, x_init, key, mc_steps, mc_width):\n",
        "    \"\"\"\n",
        "        Markov Chain Monte Carlo sampling algorithm.\n",
        "\n",
        "    INPUT:\n",
        "        logp_fn: callable that evaluate log-probability of a batch of configuration x.\n",
        "            The signature is logp_fn(x), where x has shape (batch, n, dim).\n",
        "        x_init: initial value of x, with shape (batch, n, dim).\n",
        "        key: initial PRNG key.\n",
        "        mc_steps: total number of Monte Carlo steps.\n",
        "        mc_width: size of the Monte Carlo proposal.\n",
        "\n",
        "    OUTPUT:\n",
        "        x: resulting batch samples, with the same shape as `x_init`.\n",
        "    \"\"\"\n",
        "    def step(i, state):\n",
        "        x, logp, key, num_accepts = state\n",
        "        key, key_proposal, key_accept = jax.random.split(key, 3)\n",
        "        \n",
        "        x_proposal = x + mc_width * jax.random.normal(key_proposal, x.shape)\n",
        "        logp_proposal = logp_fn(x_proposal)\n",
        "\n",
        "        ratio = jnp.exp((logp_proposal - logp))\n",
        "        accept = jax.random.uniform(key_accept, ratio.shape) < ratio\n",
        "\n",
        "        x_new = jnp.where(accept[:, None, None], x_proposal, x)\n",
        "        logp_new = jnp.where(accept, logp_proposal, logp)\n",
        "        num_accepts += accept.sum()\n",
        "        return x_new, logp_new, key, num_accepts\n",
        "    \n",
        "    logp_init = logp_fn(x_init)\n",
        "\n",
        "    x, logp, key, num_accepts = jax.lax.fori_loop(0, mc_steps, step, (x_init, logp_init, key, 0.))\n",
        "    batch = x.shape[0]\n",
        "    accept_rate = num_accepts / (mc_steps * batch)\n",
        "    return x, accept_rate"
      ]
    },
    {
      "cell_type": "code",
      "execution_count": null,
      "metadata": {
        "id": "Gc3ZGRBqaowv"
      },
      "outputs": [],
      "source": [
        "@partial(jax.vmap, in_axes=(None, 0, None, None))\n",
        "def logp(beta, x, n, dim):\n",
        "    return -beta * energy_fun(x, n, dim)"
      ]
    },
    {
      "cell_type": "code",
      "execution_count": null,
      "metadata": {
        "id": "QIdxmvehaoww",
        "outputId": "2e1becad-fff0-4cfd-b2bb-961c7483e0ef",
        "colab": {
          "base_uri": "https://localhost:8080/"
        }
      },
      "outputs": [
        {
          "output_type": "stream",
          "name": "stdout",
          "text": [
            "0.58614990234375 18.47303547162158 0.013553817156201953\n",
            "0.620921630859375 17.519845863833876 0.003738762051240855\n",
            "0.62939208984375 17.40430430918022 0.0025758009487915033\n",
            "0.630638427734375 17.38942212841285 0.0024867400102478315\n",
            "0.63100830078125 17.38724308813495 0.002457824322943043\n",
            "0.630909423828125 17.38852555279054 0.002455893865054881\n",
            "0.63153564453125 17.388751570831072 0.002483517475873131\n",
            "0.63089111328125 17.385913331986018 0.0024738192526780546\n",
            "0.631585693359375 17.38634133128952 0.002505116767542482\n",
            "0.631322021484375 17.38654925500163 0.0024780787315083906\n",
            "0.631627197265625 17.38880213243211 0.0024657705489245832\n",
            "0.63068603515625 17.38632853601986 0.002507079550063235\n",
            "0.631090087890625 17.392805909396564 0.0025181507930455106\n",
            "0.63115966796875 17.38774733225801 0.0024617565254753627\n",
            "0.631026611328125 17.385372555103743 0.002477044814960463\n",
            "0.63121337890625 17.388031473524812 0.0025261433061877082\n",
            "0.631463623046875 17.386388947615615 0.0024886751173525475\n",
            "0.631280517578125 17.38512320273898 0.0024633354779133657\n",
            "0.630960693359375 17.387850417630695 0.002486412411464413\n",
            "0.630810546875 17.391676746939066 0.002486396688897536\n"
          ]
        }
      ],
      "source": [
        "mc_steps = 100 \n",
        "mc_width = 0.05\n",
        "\n",
        "init_rng, rng = random.split(rng)\n",
        "\n",
        "x = random.normal(init_rng, (batchsize, n, dim))\n",
        "\n",
        "for _ in range(20):\n",
        "    mcmc_rng, rng = random.split(rng)\n",
        "    x, acc = mcmc(lambda x: logp(beta, x, n, dim), x, mcmc_rng, mc_steps, mc_width)\n",
        "    e = vmap(energy_fun, (0, None, None), 0)(x, n, dim)\n",
        "    print (acc, jnp.mean(e), jnp.std(e)/jnp.sqrt(batchsize))"
      ]
    },
    {
      "cell_type": "code",
      "execution_count": null,
      "metadata": {
        "id": "s1QYKRImaoww",
        "outputId": "d3751e0b-d373-49b0-b1e9-040a7f9cbd71",
        "colab": {
          "base_uri": "https://localhost:8080/",
          "height": 286
        }
      },
      "outputs": [
        {
          "output_type": "execute_result",
          "data": {
            "text/plain": [
              "<matplotlib.image.AxesImage at 0x7f7ff4117510>"
            ]
          },
          "metadata": {},
          "execution_count": 36
        },
        {
          "output_type": "display_data",
          "data": {
            "text/plain": [
              "<Figure size 432x288 with 1 Axes>"
            ],
            "image/png": "[encoded data removed]"
          },
          "metadata": {
            "needs_background": "light"
          }
        }
      ],
      "source": [
        "x = jnp.reshape(x, (batchsize*n, dim)) \n",
        "#density plot\n",
        "H, xedges, yedges = np.histogram2d(x[:, 0], x[:, 1], \n",
        "                                       bins=100, \n",
        "                                       range=((-4, 4), (-4, 4)),\n",
        "                        density=True)\n",
        "\n",
        "plt.imshow(H, interpolation=\"nearest\", \n",
        "               extent=(xedges[0], xedges[-1], yedges[0], yedges[-1]),\n",
        "               cmap=\"inferno\")"
      ]
    },
    {
      "cell_type": "markdown",
      "metadata": {
        "id": "Ecpdf8uLaowx"
      },
      "source": [
        "## Optimizing the ground state energy\n",
        "\n",
        "With jax, we can also directly optimize the energy funciton, to get the value of the ground state energy, using extremely simple code."
      ]
    },
    {
      "cell_type": "code",
      "execution_count": null,
      "metadata": {
        "id": "_rw09I2Haowx"
      },
      "outputs": [],
      "source": [
        "energy_rng, rng = random.split(rng)\n",
        "x_init = jax.random.normal(energy_rng, (n, dim))\n",
        "\n",
        "energy_and_grad = jax.value_and_grad(energy_fun)\n",
        "\n",
        "opt_init, opt_update, get_params = optimizers.adam(step_size=1e-1)\n",
        "opt_state = opt_init(x_init)"
      ]
    },
    {
      "cell_type": "code",
      "execution_count": null,
      "metadata": {
        "id": "vsM4z5Imaowy"
      },
      "outputs": [],
      "source": [
        "def energy_optimize(rng, i, opt_state):\n",
        "    x_new = get_params(opt_state)\n",
        "    energy, grad = energy_and_grad(x_new, n, dim)\n",
        "\n",
        "    opt_state = opt_update(i, grad, opt_state)\n",
        "    return energy, opt_state, x_new"
      ]
    },
    {
      "cell_type": "code",
      "execution_count": null,
      "metadata": {
        "id": "GL6_D-Gqaowy",
        "outputId": "5f25120d-9ecc-421a-993e-578b0ed9e46a",
        "colab": {
          "base_uri": "https://localhost:8080/",
          "height": 409
        }
      },
      "outputs": [
        {
          "output_type": "display_data",
          "data": {
            "text/plain": [
              "<Figure size 864x432 with 2 Axes>"
            ],
            "image/png": "[encoded data removed]"
          },
          "metadata": {
            "needs_background": "light"
          }
        },
        {
          "output_type": "stream",
          "name": "stdout",
          "text": [
            "16.948820243650133\n"
          ]
        }
      ],
      "source": [
        "energy_history = []\n",
        "for i in range(200):\n",
        "    step_rng, rng = jax.random.split(rng)\n",
        "    value, opt_state, x = energy_optimize(step_rng, i, opt_state)\n",
        "\n",
        "    energy_history.append([value]) \n",
        "\n",
        "    display.clear_output(wait=True)\n",
        "\n",
        "    fig = plt.figure(figsize=(12, 6))\n",
        "    plt.subplot(1, 2, 1)\n",
        "    plt.scatter(x[:, 0], x[:, 1])\n",
        "\n",
        "    plt.xlim([-4, 4])\n",
        "    plt.ylim([-4, 4])\n",
        "\n",
        "    plt.subplot(1, 2, 2)\n",
        "    y = np.array(energy_history)\n",
        "    plt.errorbar(np.arange(i+1), y, marker='o', capsize=8)\n",
        "    plt.xlabel('epochs')\n",
        "    plt.ylabel('energy')\n",
        "    plt.pause(0.01)\n",
        "\n",
        "print(value)"
      ]
    },
    {
      "cell_type": "markdown",
      "source": [
        "What's your result of optimization? If you didn't get what you expect, look at the figure below (taken from https://www.sciencedirect.com/science/article/pii/S0749603683710268) and think about why.\n",
        "![image.png](data:image/png;base64,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)"
      ],
      "metadata": {
        "id": "WGssbSgcZg9h"
      }
    },
    {
      "cell_type": "markdown",
      "source": [
        "## Summary\n",
        "\n",
        "Finally, let's rethink the meaning of the numbers we got. The mean energys obtained by realnvp and mcmc, are an estimate of the weighted average energy of all possible states the system is in at a particular temperature. By directly optimizing the energy function, what we get is (possibly) the minimum value of the energy, which is the ground state energy of the system.\n",
        "\n",
        "### A final question\n",
        "\n",
        "So far, our exploration hasn't involved the kinetic energy. What would the density distribution look like if electron kinetic energy was considered? You can explore on your own. Have fun! "
      ],
      "metadata": {
        "id": "2VgHiICyUzNF"
      }
    },
    {
      "cell_type": "code",
      "source": [
        ""
      ],
      "metadata": {
        "id": "NqXJUbKujrVH"
      },
      "execution_count": null,
      "outputs": []
    }
  ],
  "metadata": {
    "kernelspec": {
      "display_name": "Python 3.9.12 ('base')",
      "language": "python",
      "name": "python3"
    },
    "language_info": {
      "codemirror_mode": {
        "name": "ipython",
        "version": 3
      },
      "file_extension": ".py",
      "mimetype": "text/x-python",
      "name": "python",
      "nbconvert_exporter": "python",
      "pygments_lexer": "ipython3",
      "version": "3.9.12"
    },
    "orig_nbformat": 4,
    "vscode": {
      "interpreter": {
        "hash": "d5fd42cecb696eb755ed519f67a3230c8f3bf4d685bcb5837cf482ce4576aea4"
      }
    },
    "colab": {
      "name": "classical_coulomb_gas.ipynb",
      "provenance": [],
      "collapsed_sections": [],
      "include_colab_link": true
    },
    "accelerator": "GPU",
    "gpuClass": "standard"
  },
  "nbformat": 4,
  "nbformat_minor": 0
}